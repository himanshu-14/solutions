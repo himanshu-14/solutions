{
 "cells": [
  {
   "cell_type": "code",
   "execution_count": 33,
   "metadata": {},
   "outputs": [
    {
     "name": "stdout",
     "output_type": "stream",
     "text": [
      "                       *      \n",
      "                      ***     \n",
      "                     *****    \n",
      "                       *      \n",
      "                      ***     \n",
      "                     *****    \n",
      "                    *******   \n",
      "                   *********  \n",
      "                       *      \n",
      "                      ***     \n",
      "                     *****    \n",
      "                    *******   \n",
      "                   *********  \n",
      "                  *********** \n",
      "                 *************\n",
      "                       *\n",
      "                       *\n",
      "                       *\n",
      "We wish you a Merry Christmas and a Happy New Year!!\n"
     ]
    }
   ],
   "source": [
    "message=\"We wish you a Merry Christmas and a Happy New Year!!\"\n",
    "displace=int(len(message)/3)\n",
    "k=7\n",
    "for n in range(k-4,k+1,2):\n",
    "    for i in range(1,n+1):\n",
    "        for j in range(1,(k-i)+1+displace):\n",
    "            print(\" \",end=\"\")\n",
    "        for j in range(1,(2*i)):\n",
    "            print(\"*\",end=\"\")\n",
    "        for j in range(1,(k-i)+1):\n",
    "            print(\" \",end=\"\")\n",
    "        print()\n",
    "for i in range(1,int(n/2+1)):\n",
    "    for j in range(1,n+displace):\n",
    "        print(\" \",end=\"\")\n",
    "    print(\"*\")\n",
    "print(message)"
   ]
  },
  {
   "cell_type": "code",
   "execution_count": null,
   "metadata": {},
   "outputs": [],
   "source": []
  }
 ],
 "metadata": {
  "kernelspec": {
   "display_name": "Python 3",
   "language": "python",
   "name": "python3"
  },
  "language_info": {
   "codemirror_mode": {
    "name": "ipython",
    "version": 3
   },
   "file_extension": ".py",
   "mimetype": "text/x-python",
   "name": "python",
   "nbconvert_exporter": "python",
   "pygments_lexer": "ipython3",
   "version": "3.7.5"
  }
 },
 "nbformat": 4,
 "nbformat_minor": 2
}
